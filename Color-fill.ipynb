{
 "cells": [
  {
   "cell_type": "code",
   "execution_count": 10,
   "id": "21a61efb",
   "metadata": {},
   "outputs": [],
   "source": [
    "import openpyxl\n",
    "from openpyxl.styles import PatternFill\n",
    "\n",
    "# Load the workbook and select the active sheet\n",
    "workbook_path = 'Arizona_100k-Fall2020.xlsx'  # Make sure the file is in the same directory as the script\n",
    "workbook = openpyxl.load_workbook(workbook_path)\n",
    "worksheet = workbook.active  # Active sheet\n",
    "\n",
    "# Define fill colors for conditional formatting\n",
    "green_fill = PatternFill(start_color=\"00FF00\", end_color=\"00FF00\", fill_type=\"solid\")\n",
    "red_fill = PatternFill(start_color=\"FF0000\", end_color=\"FF0000\", fill_type=\"solid\")\n",
    "\n",
    "# Iterate over columns starting from 'B' column\n",
    "for col in worksheet.iter_cols(min_col=2, min_row=30, max_row=31):\n",
    "    hopkins_average_cell = col[0]  # Cell in row 30 (e.g., B30, C30, etc.)\n",
    "    estimate_cell = col[1]         # Corresponding cell in row 31 (e.g., B31, C31, etc.)\n",
    "    \n",
    "    try:\n",
    "        hopkins_average = float(hopkins_average_cell.value)  # Convert to float\n",
    "        estimate_value = float(estimate_cell.value)         # Convert to float\n",
    "        # Check if estimate is within three times the Hopkins average\n",
    "        if hopkins_average / 3 <= estimate_value <= hopkins_average * 3:\n",
    "            estimate_cell.fill = green_fill\n",
    "        else:\n",
    "            estimate_cell.fill = red_fill\n",
    "    except ValueError:\n",
    "        # If there's an error converting to float, it's likely not a number\n",
    "        continue\n",
    "\n",
    "# Save the modified workbook\n",
    "workbook.save('Arizona_100k-Fall2020_Modified.xlsx')\n"
   ]
  },
  {
   "cell_type": "code",
   "execution_count": null,
   "id": "3e9c6cf7",
   "metadata": {},
   "outputs": [],
   "source": []
  },
  {
   "cell_type": "code",
   "execution_count": null,
   "id": "56be9b62",
   "metadata": {},
   "outputs": [],
   "source": []
  }
 ],
 "metadata": {
  "kernelspec": {
   "display_name": "Python 3 (ipykernel)",
   "language": "python",
   "name": "python3"
  },
  "language_info": {
   "codemirror_mode": {
    "name": "ipython",
    "version": 3
   },
   "file_extension": ".py",
   "mimetype": "text/x-python",
   "name": "python",
   "nbconvert_exporter": "python",
   "pygments_lexer": "ipython3",
   "version": "3.11.2"
  }
 },
 "nbformat": 4,
 "nbformat_minor": 5
}
